{
 "cells": [
  {
   "cell_type": "code",
   "execution_count": 1,
   "metadata": {
    "collapsed": true
   },
   "outputs": [],
   "source": [
    "import numpy as np\n",
    "\n",
    "def sigmoid(x):\n",
    "    return 1/(1+np.exp(-x))\n",
    "\n",
    "def sigmoid_prime(x):\n",
    "    return sigmoid(x) * (1 - sigmoid(x))\n",
    "\n",
    "x = np.array([0.1, 0.3])\n",
    "#target\n",
    "y = 0.2\n",
    "weights = np.array([-0.8, 0.5])\n",
    "\n",
    "learnrate = 0.5\n",
    "\n",
    "#the linear combination performed by the node (h in f(h) and f'(h)\n",
    "h = x[0] * weights[0] + x[1]*weights[1]\n",
    "# or h = np.dot(x, weights)\n",
    "\n",
    "#y-hat\n",
    "nn_output = sigmoid(h)\n",
    "\n",
    "#output error(y - y-hat)\n",
    "error = y - nn_output\n",
    "\n",
    "#output gradient (f'(h))\n",
    "output_grad = sigmoid_prime(h)\n",
    "\n",
    "#error term(lowercase delta)\n",
    "error_term = error * output_grad\n",
    "\n",
    "#Gradient descent\n",
    "del_w = [learnrate * error_term * x[0], learnrate * error_term * x[1]]\n",
    "# or del_w = learnrate * error_term * x"
   ]
  },
  {
   "cell_type": "code",
   "execution_count": null,
   "metadata": {
    "collapsed": true
   },
   "outputs": [],
   "source": []
  }
 ],
 "metadata": {
  "anaconda-cloud": {},
  "kernelspec": {
   "display_name": "Python [conda env:tensorflow]",
   "language": "python",
   "name": "conda-env-tensorflow-py"
  },
  "language_info": {
   "codemirror_mode": {
    "name": "ipython",
    "version": 3
   },
   "file_extension": ".py",
   "mimetype": "text/x-python",
   "name": "python",
   "nbconvert_exporter": "python",
   "pygments_lexer": "ipython3",
   "version": "3.5.4"
  }
 },
 "nbformat": 4,
 "nbformat_minor": 1
}
