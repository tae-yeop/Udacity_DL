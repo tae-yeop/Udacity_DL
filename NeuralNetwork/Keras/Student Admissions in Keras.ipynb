{
 "cells": [
  {
   "cell_type": "markdown",
   "metadata": {},
   "source": [
    "### Studying data\n",
    "\n",
    "\n",
    "### PreProcessing\n",
    "\n",
    "better grades and test the studtent has, the more likley they are to be accepted.\n",
    "rank -> one hot encoding\n",
    "- test\n",
    "- grades\n",
    "- rank1\n",
    "- rank2\n",
    "- rank3\n",
    "- rank4\n",
    "\n",
    "#### scaling\n",
    "test scores have a range of 800, grades have a range of 4.\n",
    "-> huge discrepancy\n",
    "data[\"gre\"] = data[\"gre\"]/800\n",
    "data[\"gpa\"] = data[\"gpa\"]/4.0\n",
    "\n",
    "#### split\n",
    "X = np.array(data[:, 1:])\n",
    "y = np_utils.to_categorical(np.array(data[\"admit\"]))\n",
    "\n",
    "### Building the model architecture\n",
    "\n",
    "model = Sequential()\n",
    "model.add(Dense(128, input_dim = X.shape[1]))\n",
    "model.add(Activation(\"sigmoid\"))\n",
    "model.add(Dense(32))\n",
    "model.add(Activation(\"sigmoid\"))\n",
    "model.add(Dense(2))\n",
    "model.add(Activation(\"sigmoid\"))\n",
    "model.compile(loss=\"binary_crossentorpy\", opitmizer= \"adam\", metrics=[\"accuracy\"])\n",
    "model.summary()\n",
    "\n",
    "\n",
    "### Training\n",
    "model.fit(X_train, y_train, epochs=1000, batch_size= 100, verbose=0)\n",
    "\n",
    "\n",
    "### Evaluating the model\n",
    "score = model.evaluate(X_train, y_train)"
   ]
  },
  {
   "cell_type": "code",
   "execution_count": null,
   "metadata": {
    "collapsed": true
   },
   "outputs": [],
   "source": []
  }
 ],
 "metadata": {
  "anaconda-cloud": {},
  "kernelspec": {
   "display_name": "Python [conda env:tensorflow]",
   "language": "python",
   "name": "conda-env-tensorflow-py"
  },
  "language_info": {
   "codemirror_mode": {
    "name": "ipython",
    "version": 3
   },
   "file_extension": ".py",
   "mimetype": "text/x-python",
   "name": "python",
   "nbconvert_exporter": "python",
   "pygments_lexer": "ipython3",
   "version": "3.5.4"
  }
 },
 "nbformat": 4,
 "nbformat_minor": 1
}
